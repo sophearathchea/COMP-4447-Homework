{
 "cells": [
  {
   "cell_type": "markdown",
   "metadata": {},
   "source": [
    "- Sophearath Chea\n",
    "- COMP 4447\n",
    "- Homework 3\n",
    "- January 31, 2019\n",
    "\n",
    "#### Solve following problems. Each problem is worth 1 point. Your answers should be written in one line. Total points 6."
   ]
  },
  {
   "cell_type": "markdown",
   "metadata": {},
   "source": [
    "### Q1 Remove the blank lines from the customer_record.csv using grep command and regular expression. You may have to read grep documentation to look for more otpion."
   ]
  },
  {
   "cell_type": "markdown",
   "metadata": {},
   "source": [
    "<font size = \"5\" color=\"red\"> Run following cell to create customer_record.csv </font>"
   ]
  },
  {
   "cell_type": "code",
   "execution_count": 1,
   "metadata": {
    "scrolled": true
   },
   "outputs": [],
   "source": [
    "!echo \"customer,items, type, quantity\" > customer_history.csv; echo \"Allen, Statistical analysis, book, 2\" >> customer_history.csv;echo \"\">> customer_history.csv; echo \"Jhon, Kasa Smart Wi-Fi Plug, electronics, 3\" >>customer_history.csv; echo \"Tim,Unix Shell Programming, Book, 3\" >> customer_history.csv; echo \"\">> customer_history.csv; echo \"Allen,Python for Data Analysis, Book, 1\">> customer_history.csv"
   ]
  },
  {
   "cell_type": "code",
   "execution_count": 2,
   "metadata": {
    "scrolled": true
   },
   "outputs": [
    {
     "name": "stdout",
     "output_type": "stream",
     "text": [
      "customer,items, type, quantity\n",
      "Allen, Statistical analysis, book, 2\n",
      "\n",
      "Jhon, Kasa Smart Wi-Fi Plug, electronics, 3\n",
      "Tim,Unix Shell Programming, Book, 3\n",
      "\n",
      "Allen,Python for Data Analysis, Book, 1\n"
     ]
    }
   ],
   "source": [
    "! cat customer_history.csv"
   ]
  },
  {
   "cell_type": "code",
   "execution_count": 3,
   "metadata": {
    "scrolled": true
   },
   "outputs": [
    {
     "name": "stdout",
     "output_type": "stream",
     "text": [
      "customer,items, type, quantity\n",
      "Allen, Statistical analysis, book, 2\n",
      "Jhon, Kasa Smart Wi-Fi Plug, electronics, 3\n",
      "Tim,Unix Shell Programming, Book, 3\n",
      "Allen,Python for Data Analysis, Book, 1\n"
     ]
    }
   ],
   "source": [
    "# Write code in the next line\n",
    "! grep -v -e \"^$\" customer_history.csv"
   ]
  },
  {
   "cell_type": "markdown",
   "metadata": {},
   "source": [
    "### Q2  Use previous grep command and a combination of commands using pipe(|), print uniq customer name in capital letters."
   ]
  },
  {
   "cell_type": "code",
   "execution_count": 58,
   "metadata": {},
   "outputs": [
    {
     "name": "stdout",
     "output_type": "stream",
     "text": [
      "ALLEN\n",
      "JHON\n",
      "TIM\n"
     ]
    }
   ],
   "source": [
    "# write commands using ! in the next line\n",
    "! grep -v -e \"^$\" customer_history.csv | tail -n +2 | sort -u -t, -k1,1| cut -d \",\" -f1 | tr a-z A-Z "
   ]
  },
  {
   "cell_type": "markdown",
   "metadata": {},
   "source": [
    "#### Other  useful command we didn't cover in the class is *mkdir, find* and *wc*.\n",
    "#### Look for their documentation. Sometime we forget where the file are in the filesystem. *find* commmand is really useful for searching files in filesystem. To learn these command we wil use them  in following excercises"
   ]
  },
  {
   "cell_type": "markdown",
   "metadata": {},
   "source": [
    "#### Let's make  dataset_zyx_dec_2050/train and dataset_zyx_dec_2050/validation directory and add some files in them. \n",
    "<font color='red' size= 4 >Run the following commands to make  directories and files. </font>"
   ]
  },
  {
   "cell_type": "code",
   "execution_count": 24,
   "metadata": {
    "scrolled": true
   },
   "outputs": [],
   "source": [
    "!mkdir -p dataset_zyx_dec_2050/train\n",
    "!mkdir -p dataset_zyx_dec_2050/validation"
   ]
  },
  {
   "cell_type": "code",
   "execution_count": 26,
   "metadata": {},
   "outputs": [],
   "source": [
    "!for i in $(seq   5); do touch dataset_zyx_dec_2050/validation/cat$i.jpg ;done\n",
    "!for i in $(seq   5); do touch dataset_zyx_dec_2050/validation/cat$i.tfrecord ;done\n",
    "!for i in $(seq   5); do touch dataset_zyx_dec_2050/train/cat$i.jpg ;done\n",
    "!for i in $(seq   5); do touch dataset_zyx_dec_2050/train/dog$i.jpg ;done\n"
   ]
  },
  {
   "cell_type": "markdown",
   "metadata": {},
   "source": [
    "contents of dataset_zyx_dec_2050/validation and dataset_zyx_dec_2050/train"
   ]
  },
  {
   "cell_type": "code",
   "execution_count": 27,
   "metadata": {},
   "outputs": [
    {
     "name": "stdout",
     "output_type": "stream",
     "text": [
      "cat1.jpg cat3.jpg cat5.jpg dog2.jpg dog4.jpg\n",
      "cat2.jpg cat4.jpg dog1.jpg dog3.jpg dog5.jpg\n"
     ]
    }
   ],
   "source": [
    "!ls dataset_zyx_dec_2050/train"
   ]
  },
  {
   "cell_type": "code",
   "execution_count": 28,
   "metadata": {},
   "outputs": [
    {
     "name": "stdout",
     "output_type": "stream",
     "text": [
      "cat1.jpg      cat2.jpg      cat3.jpg      cat4.jpg      cat5.jpg\n",
      "cat1.tfrecord cat2.tfrecord cat3.tfrecord cat4.tfrecord cat5.tfrecord\n"
     ]
    }
   ],
   "source": [
    "!ls dataset_zyx_dec_2050/validation"
   ]
  },
  {
   "cell_type": "markdown",
   "metadata": {},
   "source": [
    "# Q3 Print all the files starting with the name *cat* in the subfolders of dataset_zyx_dec_2050  using find command."
   ]
  },
  {
   "cell_type": "code",
   "execution_count": 46,
   "metadata": {},
   "outputs": [
    {
     "name": "stdout",
     "output_type": "stream",
     "text": [
      "./dataset_zyx_dec_2050/train/cat1.jpg\n",
      "./dataset_zyx_dec_2050/train/cat2.jpg\n",
      "./dataset_zyx_dec_2050/train/cat3.jpg\n",
      "./dataset_zyx_dec_2050/train/cat4.jpg\n",
      "./dataset_zyx_dec_2050/train/cat5.jpg\n",
      "./dataset_zyx_dec_2050/validation/cat1.jpg\n",
      "./dataset_zyx_dec_2050/validation/cat2.jpg\n",
      "./dataset_zyx_dec_2050/validation/cat3.jpg\n",
      "./dataset_zyx_dec_2050/validation/cat1.tfrecord\n",
      "./dataset_zyx_dec_2050/validation/cat4.jpg\n",
      "./dataset_zyx_dec_2050/validation/cat5.jpg\n",
      "./dataset_zyx_dec_2050/validation/cat5.tfrecord\n",
      "./dataset_zyx_dec_2050/validation/cat4.tfrecord\n",
      "./dataset_zyx_dec_2050/validation/cat2.tfrecord\n",
      "./dataset_zyx_dec_2050/validation/cat3.tfrecord\n"
     ]
    }
   ],
   "source": [
    "# write your command in next line\n",
    "# Hint ./use dataset_zyx_dec_2050 and read about -name option in the find command\n",
    "# ! find ./use dataset_zyx_dec_2050 / -type f -name \"cat*.*\"\n",
    "! find ./dataset_zyx_dec_2050  -name \"cat*.*\" -print"
   ]
  },
  {
   "cell_type": "markdown",
   "metadata": {},
   "source": [
    "# Q4 Count number of cat file using pipe and *wc* command."
   ]
  },
  {
   "cell_type": "code",
   "execution_count": 48,
   "metadata": {},
   "outputs": [
    {
     "name": "stdout",
     "output_type": "stream",
     "text": [
      "      15\n"
     ]
    }
   ],
   "source": [
    "#write your commands in the next line\n",
    "! find ./dataset_zyx_dec_2050  -name \"cat*.*\" -print | wc -l"
   ]
  },
  {
   "cell_type": "markdown",
   "metadata": {},
   "source": [
    "# Q5 Using answer of Q2, find the total number of unique customer"
   ]
  },
  {
   "cell_type": "code",
   "execution_count": 56,
   "metadata": {},
   "outputs": [
    {
     "name": "stdout",
     "output_type": "stream",
     "text": [
      "       3\n"
     ]
    }
   ],
   "source": [
    "# write your code in the next line\n",
    "! grep -v -e \"^$\" customer_history.csv | tail -n +2 | sort -u -t, -k1,1 | wc -l"
   ]
  },
  {
   "cell_type": "markdown",
   "metadata": {},
   "source": [
    "# Let's say you work for an e-commerce company and you are on call. Due to some recent feature pushed to the production, a severity 1 ticket is raised. The ticket states that some to the customers are charged multiple time this month. You task is to quickly find the affected customer and manually credit back the amount.\n",
    "\n",
    "<font size=\"4\" color = \"red\"> Run the followoing cell to generate the the  payment_gateway.logxx file </font>"
   ]
  },
  {
   "cell_type": "code",
   "execution_count": 59,
   "metadata": {},
   "outputs": [],
   "source": [
    "%%bash\n",
    "echo \"customer:2150:credit_card:xxxx-xxxx-xxxx:charged:\\$50\n",
    "customer:2350:credit_card:xxxx-xxxx-xxxx:charged:\\$20\n",
    "Paymenet gateway: STATUS 200\n",
    "customer:3456 payment failed\n",
    "customer:3350:credit_card:xxxx-xxxx-xxxx:charged:\\$71\n",
    "customer:4350:credit_card:xxxx-xxxx-xxxx:charged:\\$50\n",
    "customer:2350:credit_card:xxxx-xxxx-xxxx:charged:\\$20\n",
    "ncustomer:2150:credit_card:xxxx-xxxx-xxxx:charged:\\$50\n",
    "customer:3350:credit_card:xxxx-xxxx-xxxx:charged:\\$71\n",
    "customer:2350:credit_card:xxxx-xxxx-xxxx:charged:\\$20\n",
    "customer:2350:credit_card:xxxx-xxxx-xxxx:declined charged:attempt:3\" > payment_gateway.logxx"
   ]
  },
  {
   "cell_type": "code",
   "execution_count": 60,
   "metadata": {},
   "outputs": [
    {
     "name": "stdout",
     "output_type": "stream",
     "text": [
      "customer:2150:credit_card:xxxx-xxxx-xxxx:charged:$50\n",
      "customer:2350:credit_card:xxxx-xxxx-xxxx:charged:$20\n",
      "Paymenet gateway: STATUS 200\n",
      "customer:3456 payment failed\n",
      "customer:3350:credit_card:xxxx-xxxx-xxxx:charged:$71\n",
      "customer:4350:credit_card:xxxx-xxxx-xxxx:charged:$50\n",
      "customer:2350:credit_card:xxxx-xxxx-xxxx:charged:$20\n",
      "ncustomer:2150:credit_card:xxxx-xxxx-xxxx:charged:$50\n",
      "customer:3350:credit_card:xxxx-xxxx-xxxx:charged:$71\n",
      "customer:2350:credit_card:xxxx-xxxx-xxxx:charged:$20\n",
      "customer:2350:credit_card:xxxx-xxxx-xxxx:declined charged:attempt:3\n"
     ]
    }
   ],
   "source": [
    "# Here are the file content\n",
    "!cat payment_gateway.logxx"
   ]
  },
  {
   "cell_type": "markdown",
   "metadata": {},
   "source": [
    "# Q6 Use payment_gateway.logxx file to find the number of times a customer is charged and the line corresponding to the customer  record. Only print lines for customers charged more than one time.\n",
    "\n",
    "Hint:\n",
    "for customer 2350 line output should be\n",
    "\n",
    "3 customer:2350:credit_card:xxxx-xxxx-xxxx:charged:$20\n"
   ]
  },
  {
   "cell_type": "code",
   "execution_count": 101,
   "metadata": {},
   "outputs": [
    {
     "name": "stdout",
     "output_type": "stream",
     "text": [
      "   2 customer:2150:credit_card:xxxx-xxxx-xxxx:charged:$50\n",
      "   3 customer:2350:credit_card:xxxx-xxxx-xxxx:charged:$20\n",
      "   2 customer:3350:credit_card:xxxx-xxxx-xxxx:charged:$71\n"
     ]
    }
   ],
   "source": [
    "! sed 's/^n//' payment_gateway.logxx | sort | uniq -c | grep -v '^ *1 '"
   ]
  },
  {
   "cell_type": "code",
   "execution_count": null,
   "metadata": {},
   "outputs": [],
   "source": []
  }
 ],
 "metadata": {
  "kernelspec": {
   "display_name": "Python 3",
   "language": "python",
   "name": "python3"
  },
  "language_info": {
   "codemirror_mode": {
    "name": "ipython",
    "version": 3
   },
   "file_extension": ".py",
   "mimetype": "text/x-python",
   "name": "python",
   "nbconvert_exporter": "python",
   "pygments_lexer": "ipython3",
   "version": "3.7.0"
  }
 },
 "nbformat": 4,
 "nbformat_minor": 2
}
